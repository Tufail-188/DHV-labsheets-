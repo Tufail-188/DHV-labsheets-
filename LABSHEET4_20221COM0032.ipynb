{
  "nbformat": 4,
  "nbformat_minor": 0,
  "metadata": {
    "colab": {
      "provenance": []
    },
    "kernelspec": {
      "name": "python3",
      "display_name": "Python 3"
    },
    "language_info": {
      "name": "python"
    }
  },
  "cells": [
    {
      "cell_type": "code",
      "execution_count": 1,
      "metadata": {
        "id": "QVhnQrJOJcAx"
      },
      "outputs": [],
      "source": [
        "# importing the numpy library\n",
        "import numpy as np"
      ]
    },
    {
      "cell_type": "code",
      "source": [
        "# numpy array creation\n",
        "a = np.array([1,2,3])\n",
        "print(type(a),a.shape,a[0],a[1],a[2])\n",
        "a[0] = 5\n",
        "print(a)"
      ],
      "metadata": {
        "colab": {
          "base_uri": "https://localhost:8080/"
        },
        "id": "Xv7RRi1PJgzb",
        "outputId": "71aedb4e-1826-4f57-f23a-7019e3b91621"
      },
      "execution_count": 8,
      "outputs": [
        {
          "output_type": "stream",
          "name": "stdout",
          "text": [
            "<class 'numpy.ndarray'> (3,) 1 2 3\n",
            "[5 2 3]\n"
          ]
        }
      ]
    },
    {
      "cell_type": "code",
      "source": [
        "# 2dimensional array creation\n",
        "b = np.array([[1,2,3],[4,5,6]])\n",
        "print(b)\n",
        "print(b.shape)\n",
        "print(b[0,1],b[0,2])"
      ],
      "metadata": {
        "colab": {
          "base_uri": "https://localhost:8080/"
        },
        "id": "q6GnzC-5J1Re",
        "outputId": "b6108e67-11c7-406e-c916-cce4f0a3ffbe"
      },
      "execution_count": 14,
      "outputs": [
        {
          "output_type": "stream",
          "name": "stdout",
          "text": [
            "[[1 2 3]\n",
            " [4 5 6]]\n",
            "(2, 3)\n",
            "2 3\n"
          ]
        }
      ]
    },
    {
      "cell_type": "markdown",
      "source": [
        "### Numpy array provide many functionality"
      ],
      "metadata": {
        "id": "y1Jrw5itMKr1"
      }
    },
    {
      "cell_type": "code",
      "source": [
        "# array with zero values\n",
        "zero_array = np.zeros([2,2])\n",
        "print(zero_array)"
      ],
      "metadata": {
        "colab": {
          "base_uri": "https://localhost:8080/"
        },
        "id": "3WEEtg0ZKq_B",
        "outputId": "156508fa-09b9-47ea-df7b-491c8241788b"
      },
      "execution_count": 16,
      "outputs": [
        {
          "output_type": "stream",
          "name": "stdout",
          "text": [
            "[[0. 0.]\n",
            " [0. 0.]]\n"
          ]
        }
      ]
    },
    {
      "cell_type": "code",
      "source": [
        "# Array of one value\n",
        "ones_array = np.ones((1,2))\n",
        "ones_array"
      ],
      "metadata": {
        "colab": {
          "base_uri": "https://localhost:8080/"
        },
        "id": "xg3mo7e8Lv97",
        "outputId": "11fe9251-f5b6-4f72-e582-5e121d779583"
      },
      "execution_count": 17,
      "outputs": [
        {
          "output_type": "execute_result",
          "data": {
            "text/plain": [
              "array([[1., 1.]])"
            ]
          },
          "metadata": {},
          "execution_count": 17
        }
      ]
    },
    {
      "cell_type": "code",
      "source": [
        "# Array filled with a constant\n",
        "c = np.full([2,3],7)\n",
        "print(c)"
      ],
      "metadata": {
        "colab": {
          "base_uri": "https://localhost:8080/"
        },
        "id": "-hQQC5M1L8Nb",
        "outputId": "cc338f8b-fa6a-45de-c175-6aa3e9bccd0e"
      },
      "execution_count": 18,
      "outputs": [
        {
          "output_type": "stream",
          "name": "stdout",
          "text": [
            "[[7 7 7]\n",
            " [7 7 7]]\n"
          ]
        }
      ]
    },
    {
      "cell_type": "code",
      "source": [
        "# identity matrix array\n",
        "d = np.eye(2)\n",
        "print(d)"
      ],
      "metadata": {
        "colab": {
          "base_uri": "https://localhost:8080/"
        },
        "id": "5UrwoM31MZm3",
        "outputId": "ccc9531e-f9fb-4f50-fbcb-529025539ee9"
      },
      "execution_count": 20,
      "outputs": [
        {
          "output_type": "stream",
          "name": "stdout",
          "text": [
            "[[1. 0.]\n",
            " [0. 1.]]\n"
          ]
        }
      ]
    },
    {
      "cell_type": "code",
      "source": [
        "# Creating a random array\n",
        "random_array = np.random.random([2,2])\n",
        "random_array"
      ],
      "metadata": {
        "colab": {
          "base_uri": "https://localhost:8080/"
        },
        "id": "8AwbO9jQMtdG",
        "outputId": "d7174722-92e2-499c-9dcf-bb9359870291"
      },
      "execution_count": 23,
      "outputs": [
        {
          "output_type": "execute_result",
          "data": {
            "text/plain": [
              "array([[0.42151801, 0.70840848],\n",
              "       [0.65343142, 0.97041314]])"
            ]
          },
          "metadata": {},
          "execution_count": 23
        }
      ]
    },
    {
      "cell_type": "code",
      "source": [
        "# 3 dimension array\n",
        "a = np.array([[1,2,3,4],[5,6,7,8],[9,10,11,12]])\n",
        "print(a)"
      ],
      "metadata": {
        "colab": {
          "base_uri": "https://localhost:8080/"
        },
        "id": "KFlcbm11Oxx-",
        "outputId": "309969eb-29e7-4f5b-dd73-0c2523bfae26"
      },
      "execution_count": 28,
      "outputs": [
        {
          "output_type": "stream",
          "name": "stdout",
          "text": [
            "[[ 1  2  3  4]\n",
            " [ 5  6  7  8]\n",
            " [ 9 10 11 12]]\n"
          ]
        }
      ]
    },
    {
      "cell_type": "code",
      "source": [
        "# Slicing of array\n",
        "b = a[:2,1:3]\n",
        "print(b)"
      ],
      "metadata": {
        "colab": {
          "base_uri": "https://localhost:8080/"
        },
        "id": "HkRyIGZ8PPcX",
        "outputId": "70aaec5a-8651-4aa4-ae31-a56856c95d1c"
      },
      "execution_count": 29,
      "outputs": [
        {
          "output_type": "stream",
          "name": "stdout",
          "text": [
            "[[2 3]\n",
            " [6 7]]\n"
          ]
        }
      ]
    },
    {
      "cell_type": "code",
      "source": [
        "# Using the scling for priting\n",
        "print(\"a[0,1] = \",a[0,1])\n",
        "print('b[0,0] = ',b[0,0])"
      ],
      "metadata": {
        "colab": {
          "base_uri": "https://localhost:8080/"
        },
        "id": "Gh52tydnPYZz",
        "outputId": "42ed8dc5-e6e2-4b11-d830-04415a9c9f80"
      },
      "execution_count": 33,
      "outputs": [
        {
          "output_type": "stream",
          "name": "stdout",
          "text": [
            "a[0,1] =  2\n",
            "b[0,0] =  2\n"
          ]
        }
      ]
    },
    {
      "cell_type": "code",
      "source": [
        "# Sclicing the row1, row2 and row3\n",
        "row_r1 = a[0,:]\n",
        "row_r2 = a[1:2,:]\n",
        "row_r3 = a[2:3,:]\n",
        "print(row_r1,row_r1.shape)\n",
        "print(row_r2,row_r2.shape)\n",
        "print(row_r3,row_r3.shape)"
      ],
      "metadata": {
        "colab": {
          "base_uri": "https://localhost:8080/"
        },
        "id": "6JYL_MVvQNQO",
        "outputId": "9866ef7a-3457-492d-9b53-3a82792199d7"
      },
      "execution_count": 50,
      "outputs": [
        {
          "output_type": "stream",
          "name": "stdout",
          "text": [
            "[1 2 3 4] (4,)\n",
            "[[5 6 7 8]] (1, 4)\n",
            "[[ 9 10 11 12]] (1, 4)\n"
          ]
        }
      ]
    },
    {
      "cell_type": "code",
      "source": [
        "# Scling the columns from it\n",
        "column_1 = a[:,1]\n",
        "column_2 = a[:,1:2]\n",
        "column_3 = a[:,2:3]\n",
        "print(column_1,column_1.shape)\n",
        "print(column_2,column_2.shape)\n",
        "print(column_3,column_3.shape)"
      ],
      "metadata": {
        "colab": {
          "base_uri": "https://localhost:8080/"
        },
        "id": "AqxQNZGgQ-hG",
        "outputId": "f620d4d6-0fde-4094-de61-606c2068a929"
      },
      "execution_count": 53,
      "outputs": [
        {
          "output_type": "stream",
          "name": "stdout",
          "text": [
            "[ 2  6 10] (3,)\n",
            "[[ 2]\n",
            " [ 6]\n",
            " [10]] (3, 1)\n",
            "[[ 3]\n",
            " [ 7]\n",
            " [11]] (3, 1)\n"
          ]
        }
      ]
    },
    {
      "cell_type": "code",
      "source": [
        "# Scling of array\n",
        "a = np.array([[1,2],\n",
        "              [3,4],\n",
        "              [5,6]])\n",
        "print(a[[0,1,2],[0,1,0]])\n",
        "print(a[0,0],a[1,1],a[2,0])"
      ],
      "metadata": {
        "colab": {
          "base_uri": "https://localhost:8080/"
        },
        "id": "lSPnUhnARPQf",
        "outputId": "2a3e7205-58f9-4a59-9edd-6568d7b37adf"
      },
      "execution_count": 56,
      "outputs": [
        {
          "output_type": "stream",
          "name": "stdout",
          "text": [
            "[1 4 5]\n",
            "1 4 5\n"
          ]
        }
      ]
    },
    {
      "cell_type": "code",
      "source": [
        "print(a[[0,0],[1,1]])\n",
        "print(np.array([a[0,1],a[0,1]]))"
      ],
      "metadata": {
        "colab": {
          "base_uri": "https://localhost:8080/"
        },
        "id": "dwp0W6kXR_FS",
        "outputId": "0aea52fb-3829-4abf-af5d-f7916e17e7c1"
      },
      "execution_count": 60,
      "outputs": [
        {
          "output_type": "stream",
          "name": "stdout",
          "text": [
            "[2 2]\n",
            "[2 2]\n"
          ]
        }
      ]
    },
    {
      "cell_type": "code",
      "source": [
        "# Four dimension array\n",
        "a = np.array([[1,2,3],[4,5,6],[7,8,9],[10,11,12]])\n",
        "print(a)"
      ],
      "metadata": {
        "colab": {
          "base_uri": "https://localhost:8080/"
        },
        "id": "Ws_1uGoVWneM",
        "outputId": "646d6403-f404-4f82-f0d8-9df4f7412198"
      },
      "execution_count": 61,
      "outputs": [
        {
          "output_type": "stream",
          "name": "stdout",
          "text": [
            "[[ 1  2  3]\n",
            " [ 4  5  6]\n",
            " [ 7  8  9]\n",
            " [10 11 12]]\n"
          ]
        }
      ]
    },
    {
      "cell_type": "code",
      "source": [
        "b = np.array([0,2,0,1])\n",
        "print(b)"
      ],
      "metadata": {
        "colab": {
          "base_uri": "https://localhost:8080/"
        },
        "id": "aFxES4mqWy8s",
        "outputId": "a2056ee5-708a-4038-d808-0025bccd2c75"
      },
      "execution_count": 63,
      "outputs": [
        {
          "output_type": "stream",
          "name": "stdout",
          "text": [
            "[0 2 0 1]\n"
          ]
        }
      ]
    },
    {
      "cell_type": "code",
      "source": [
        "a[np.arange(4)]"
      ],
      "metadata": {
        "colab": {
          "base_uri": "https://localhost:8080/"
        },
        "id": "BBjffFNaXx6Z",
        "outputId": "106ec469-cb8b-424d-f0de-39205f6236e7"
      },
      "execution_count": 64,
      "outputs": [
        {
          "output_type": "execute_result",
          "data": {
            "text/plain": [
              "array([[ 1,  2,  3],\n",
              "       [ 4,  5,  6],\n",
              "       [ 7,  8,  9],\n",
              "       [10, 11, 12]])"
            ]
          },
          "metadata": {},
          "execution_count": 64
        }
      ]
    },
    {
      "cell_type": "code",
      "source": [
        "a = np.array([[1,2],[3,4],[5,6]])\n",
        "bool_index = (a > 2)"
      ],
      "metadata": {
        "id": "aWVL43XEX-L0"
      },
      "execution_count": 65,
      "outputs": []
    },
    {
      "cell_type": "code",
      "source": [
        "print(bool_index)"
      ],
      "metadata": {
        "colab": {
          "base_uri": "https://localhost:8080/"
        },
        "id": "a3AQZ6E7YivV",
        "outputId": "4f515acc-b7b1-4e12-f4fa-df6f3c37e556"
      },
      "execution_count": 66,
      "outputs": [
        {
          "output_type": "stream",
          "name": "stdout",
          "text": [
            "[[False False]\n",
            " [ True  True]\n",
            " [ True  True]]\n"
          ]
        }
      ]
    },
    {
      "cell_type": "code",
      "source": [
        "# Boolean indexing\n",
        "a[a>2]"
      ],
      "metadata": {
        "colab": {
          "base_uri": "https://localhost:8080/"
        },
        "id": "1lkeM6ZyYkug",
        "outputId": "17c90276-0157-4973-df3e-38cc42fa221b"
      },
      "execution_count": 67,
      "outputs": [
        {
          "output_type": "execute_result",
          "data": {
            "text/plain": [
              "array([3, 4, 5, 6])"
            ]
          },
          "metadata": {},
          "execution_count": 67
        }
      ]
    },
    {
      "cell_type": "code",
      "source": [
        "x = np.array([4,5])\n",
        "y = np.array([1.0,2.0])\n",
        "z = np.array([1,2],dtype=np.int64)\n",
        "print(x.dtype,y.dtype,z.dtype)"
      ],
      "metadata": {
        "colab": {
          "base_uri": "https://localhost:8080/"
        },
        "id": "Kw43a6bcZNOv",
        "outputId": "605561d9-02e6-4a4c-e425-a11e8e38b208"
      },
      "execution_count": 79,
      "outputs": [
        {
          "output_type": "stream",
          "name": "stdout",
          "text": [
            "int64 float64 int64\n"
          ]
        }
      ]
    },
    {
      "cell_type": "code",
      "source": [
        "# Subtraction\n",
        "print(x-y)\n",
        "print(np.subtract(x,y))"
      ],
      "metadata": {
        "colab": {
          "base_uri": "https://localhost:8080/"
        },
        "id": "HURrcrCsbErU",
        "outputId": "cede53d7-c26c-485e-b46f-d043eb180f44"
      },
      "execution_count": 80,
      "outputs": [
        {
          "output_type": "stream",
          "name": "stdout",
          "text": [
            "[3. 3.]\n",
            "[3. 3.]\n"
          ]
        }
      ]
    },
    {
      "cell_type": "code",
      "source": [
        "# Multiplication\n",
        "print(x * y)\n",
        "print(np.multiply(x,y))"
      ],
      "metadata": {
        "colab": {
          "base_uri": "https://localhost:8080/"
        },
        "id": "7n4ITcBMbGvF",
        "outputId": "90081800-a6fd-4801-99aa-79595bf6022a"
      },
      "execution_count": 81,
      "outputs": [
        {
          "output_type": "stream",
          "name": "stdout",
          "text": [
            "[ 4. 10.]\n",
            "[ 4. 10.]\n"
          ]
        }
      ]
    },
    {
      "cell_type": "code",
      "source": [
        "# Square root of array numbers\n",
        "np.sqrt(z)"
      ],
      "metadata": {
        "colab": {
          "base_uri": "https://localhost:8080/"
        },
        "id": "A8rPCPfRbZC6",
        "outputId": "f14ca1b8-f4e1-4691-c768-640d62301ab9"
      },
      "execution_count": 82,
      "outputs": [
        {
          "output_type": "execute_result",
          "data": {
            "text/plain": [
              "array([1.        , 1.41421356])"
            ]
          },
          "metadata": {},
          "execution_count": 82
        }
      ]
    },
    {
      "cell_type": "code",
      "source": [
        "x = np.array([[1,2],[3,4]])\n",
        "y = np.array([[5,6],[7,8]])\n",
        "\n",
        "y = np.array([9,10])\n",
        "w = np.array([11,12])"
      ],
      "metadata": {
        "id": "rZDU-AlybkWO"
      },
      "execution_count": 86,
      "outputs": []
    },
    {
      "cell_type": "code",
      "source": [
        "# Element wise multiplication\n",
        "print(y.dot(w))\n",
        "print(np.dot(y,w))"
      ],
      "metadata": {
        "colab": {
          "base_uri": "https://localhost:8080/"
        },
        "id": "4qIIism9cNcj",
        "outputId": "00de0fa7-819c-468b-dd63-9303b948a68c"
      },
      "execution_count": 89,
      "outputs": [
        {
          "output_type": "stream",
          "name": "stdout",
          "text": [
            "219\n",
            "219\n"
          ]
        }
      ]
    },
    {
      "cell_type": "code",
      "source": [
        "# Matrix multiplication\n",
        "print(y@w)"
      ],
      "metadata": {
        "colab": {
          "base_uri": "https://localhost:8080/"
        },
        "id": "BX71eXIZcY9H",
        "outputId": "7ba09a1d-c8ad-4afc-b510-6d75f1069f03"
      },
      "execution_count": 90,
      "outputs": [
        {
          "output_type": "stream",
          "name": "stdout",
          "text": [
            "219\n"
          ]
        }
      ]
    },
    {
      "cell_type": "code",
      "source": [
        "# Mutlipication of x, y\n",
        "print(x.dot(y))\n",
        "print(x@y)\n",
        "print(np.dot(x,y))"
      ],
      "metadata": {
        "colab": {
          "base_uri": "https://localhost:8080/"
        },
        "id": "U3ogndM1c6VT",
        "outputId": "a8b67d7c-4ef5-42c4-d367-5ecd5706f5dd"
      },
      "execution_count": 92,
      "outputs": [
        {
          "output_type": "stream",
          "name": "stdout",
          "text": [
            "[29 67]\n",
            "[29 67]\n",
            "[29 67]\n"
          ]
        }
      ]
    },
    {
      "cell_type": "code",
      "source": [
        "z = np.array([[1,2],[3,4]])\n",
        "print(np.sum(z))\n",
        "print(np.sum(z,axis=0)) # row wise\n",
        "print(np.sum(z,axis=1)) # column wise addiition"
      ],
      "metadata": {
        "colab": {
          "base_uri": "https://localhost:8080/"
        },
        "id": "n5xvWzDNdCWV",
        "outputId": "b15e1ad9-de32-4d78-9fac-0f5e616a5e69"
      },
      "execution_count": 94,
      "outputs": [
        {
          "output_type": "stream",
          "name": "stdout",
          "text": [
            "10\n",
            "[4 6]\n",
            "[3 7]\n"
          ]
        }
      ]
    }
  ]
}